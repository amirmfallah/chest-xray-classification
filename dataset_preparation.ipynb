{
 "cells": [
  {
   "cell_type": "code",
   "execution_count": 5,
   "metadata": {},
   "outputs": [],
   "source": [
    "import pandas as pd\n",
    "from matplotlib import pyplot as plt\n",
    "from PIL import Image \n",
    "import numpy as np\n",
    "import shutil\n",
    "import os"
   ]
  },
  {
   "cell_type": "code",
   "execution_count": 6,
   "metadata": {},
   "outputs": [],
   "source": [
    "meta = pd.read_csv(\"Chest_xray_Corona_Metadata.csv\")"
   ]
  },
  {
   "cell_type": "code",
   "execution_count": 7,
   "metadata": {},
   "outputs": [
    {
     "data": {
      "text/html": [
       "<div>\n",
       "<style scoped>\n",
       "    .dataframe tbody tr th:only-of-type {\n",
       "        vertical-align: middle;\n",
       "    }\n",
       "\n",
       "    .dataframe tbody tr th {\n",
       "        vertical-align: top;\n",
       "    }\n",
       "\n",
       "    .dataframe thead th {\n",
       "        text-align: right;\n",
       "    }\n",
       "</style>\n",
       "<table border=\"1\" class=\"dataframe\">\n",
       "  <thead>\n",
       "    <tr style=\"text-align: right;\">\n",
       "      <th></th>\n",
       "      <th>Unnamed: 0</th>\n",
       "    </tr>\n",
       "  </thead>\n",
       "  <tbody>\n",
       "    <tr>\n",
       "      <th>count</th>\n",
       "      <td>5910.000000</td>\n",
       "    </tr>\n",
       "    <tr>\n",
       "      <th>mean</th>\n",
       "      <td>2957.075635</td>\n",
       "    </tr>\n",
       "    <tr>\n",
       "      <th>std</th>\n",
       "      <td>1710.186149</td>\n",
       "    </tr>\n",
       "    <tr>\n",
       "      <th>min</th>\n",
       "      <td>0.000000</td>\n",
       "    </tr>\n",
       "    <tr>\n",
       "      <th>25%</th>\n",
       "      <td>1477.250000</td>\n",
       "    </tr>\n",
       "    <tr>\n",
       "      <th>50%</th>\n",
       "      <td>2954.500000</td>\n",
       "    </tr>\n",
       "    <tr>\n",
       "      <th>75%</th>\n",
       "      <td>4431.750000</td>\n",
       "    </tr>\n",
       "    <tr>\n",
       "      <th>max</th>\n",
       "      <td>5932.000000</td>\n",
       "    </tr>\n",
       "  </tbody>\n",
       "</table>\n",
       "</div>"
      ],
      "text/plain": [
       "        Unnamed: 0\n",
       "count  5910.000000\n",
       "mean   2957.075635\n",
       "std    1710.186149\n",
       "min       0.000000\n",
       "25%    1477.250000\n",
       "50%    2954.500000\n",
       "75%    4431.750000\n",
       "max    5932.000000"
      ]
     },
     "execution_count": 7,
     "metadata": {},
     "output_type": "execute_result"
    }
   ],
   "source": [
    "meta.describe()"
   ]
  },
  {
   "cell_type": "code",
   "execution_count": 9,
   "metadata": {},
   "outputs": [],
   "source": [
    "for index, row in meta.iterrows():\n",
    "    try:\n",
    "        shutil.copyfile(\"dataset/\" + str(row[\"Dataset_type\"]).lower()  + \"/\" + row[\"X_ray_image_name\"], \"dataset_labeled/\" + str(row[\"Dataset_type\"]).lower() + \"/\" + row[\"Label\"] + \"-\" + str(row[\"Label_2_Virus_category\"]) + \"-\" + str(row[\"Label_1_Virus_category\"]) + \"/\" + row[\"X_ray_image_name\"])\n",
    "    except Exception as e2:\n",
    "        print(e2)\n",
    "        try:\n",
    "            print(\"dataset_labeled/\" + str(row[\"Dataset_type\"]).lower() + \"/\" + row[\"Label\"] + \"-\" + str(row[\"Label_2_Virus_category\"]) + \"-\" + str(row[\"Label_1_Virus_category\"]))\n",
    "            os.mkdir(\"dataset_labeled/\" + str(row[\"Dataset_type\"]).lower() + \"/\" + row[\"Label\"] + \"-\" + str(row[\"Label_2_Virus_category\"]) + \"-\" + str(row[\"Label_1_Virus_category\"]))\n",
    "            shutil.copyfile(\"dataset/\" + str(row[\"Dataset_type\"]).lower()  + \"/\" + row[\"X_ray_image_name\"], \"dataset_labeled/\" + str(row[\"Dataset_type\"]).lower() + \"/\" + row[\"Label\"] + \"-\" + str(row[\"Label_2_Virus_category\"]) + \"-\" + str(row[\"Label_1_Virus_category\"]) + \"/\" + row[\"X_ray_image_name\"])\n",
    "\n",
    "        except Exception as e: \n",
    "            print(e)\n",
    "            pass\n",
    "        pass"
   ]
  }
 ],
 "metadata": {
  "kernelspec": {
   "display_name": "Python 3.8.2 64-bit",
   "language": "python",
   "name": "python3"
  },
  "language_info": {
   "codemirror_mode": {
    "name": "ipython",
    "version": 3
   },
   "file_extension": ".py",
   "mimetype": "text/x-python",
   "name": "python",
   "nbconvert_exporter": "python",
   "pygments_lexer": "ipython3",
   "version": "3.8.2"
  },
  "orig_nbformat": 4,
  "vscode": {
   "interpreter": {
    "hash": "aee8b7b246df8f9039afb4144a1f6fd8d2ca17a180786b69acc140d282b71a49"
   }
  }
 },
 "nbformat": 4,
 "nbformat_minor": 2
}
